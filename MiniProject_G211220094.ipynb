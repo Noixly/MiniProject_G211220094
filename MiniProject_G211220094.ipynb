import pandas as pd
import matplotlib.pyplot as plt

# Mengunggah file stock.csv ke Google Colab
from google.colab import files
uploaded = files.upload()

# Membaca file CSV
df = pd.read_csv('retail_raw_reduced.csv')

# Mengubah kolom order_date menjadi tipe data datetime
df['order_date'] = pd.to_datetime(df['order_date'])

# Kasus 1: Menentukan brand top 5
top_5_brands = df[df['order_date'].dt.month == 12].groupby('brand')['customer_id'].nunique().nlargest(5)
print("Top 5 brands:")
print(top_5_brands)

# Kasus 2: Dataset top 5 brand di bulan Desember 2019
dataset_top5brand_dec = df[df['brand'].isin(top_5_brands.index) & (df['order_date'].dt.month == 12)]

# Kasus 3: Jumlah produk terjual untuk setiap brand
product_count = dataset_top5brand_dec.groupby('brand')['product_id'].nunique().sort_values(ascending=False)

# Visualisasi dengan bar chart
plt.figure(figsize=(10, 5))
product_count.plot(kind='bar')
plt.title('Jumlah Produk Terjual per Brand (Desember 2019)')
plt.xlabel('Brand')
plt.ylabel('Jumlah Produk')
plt.xticks(rotation=45)
plt.show()

# Kasus 4: Stacked chart untuk produk terjual >= 100 dan < 100
product_sold = dataset_top5brand_dec.groupby(['brand', 'product_id'])['quantity'].sum().reset_index()
product_sold['category'] = pd.cut(product_sold['quantity'], bins=[-float('inf'), 100, float('inf')], labels=['<100', '>=100'])

product_sold_count = product_sold.groupby(['brand', 'category']).size().unstack()

# Visualisasi dengan stacked bar chart
plt.figure(figsize=(10, 5))
product_sold_count.plot(kind='bar', stacked=True)
plt.title('Jumlah Produk Terjual per Brand (Desember 2019)')
plt.xlabel('Brand')
plt.ylabel('Jumlah Produk')
plt.xticks(rotation=45)
plt.legend(title='Category')
plt.show()

# Kasus 5: Histogram distribusi harga produk brand top 5
product_prices = dataset_top5brand_dec.groupby(['brand', 'product_id'])['item_price'].median().reset_index()

plt.figure(figsize=(10, 5))
for brand in top_5_brands.index:
    brand_prices = product_prices[product_prices['brand'] == brand]['item_price']
    plt.hist(brand_prices, bins=20, alpha=0.5, label=brand, density=True)
plt.title('Distribusi Harga Produk per Brand (Desember 2019)')
plt.xlabel('Harga Produk')
plt.ylabel('Frekuensi')
plt.legend()
plt.show()

# Kasus 6a: Scatter plot quantity vs GMV
product_gmv = dataset_top5brand_dec.groupby(['brand', 'product_id'])[['quantity', 'item_price']].sum()

plt.figure(figsize=(10, 5))
for brand in top_5_brands.index:
    brand_data = product_gmv.loc[brand]
    plt.scatter(brand_data['quantity'], brand_data['item_price'], label=brand, alpha=0.7)
plt.title('Quantity vs GMV per Brand (Desember 2019)')
plt.xlabel('Quantity')
plt.ylabel('GMV')
plt.legend()
plt.show()

# Kasus 6b: Scatter plot median harga vs quantity
median_price_quantity = df.groupby('product_id')['item_price', 'quantity'].median()

plt.figure(figsize=(10, 5))
plt.scatter(median_price_quantity['item_price'], median_price_quantity['quantity'], alpha=0.5)
plt.xlabel('Median Harga')
plt.ylabel('Jumlah Pembelian')
plt.title('Korelasi Median Harga vs Quantity')
plt.grid(True)
plt.tight_layout()
plt.show()
